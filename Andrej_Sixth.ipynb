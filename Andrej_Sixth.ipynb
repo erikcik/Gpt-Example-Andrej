{
 "cells": [
  {
   "cell_type": "code",
   "execution_count": 56,
   "metadata": {},
   "outputs": [],
   "source": [
    "import torch\n",
    "import torch.nn.functional as F\n",
    "import matplotlib.pyplot as plt\n",
    "import random"
   ]
  },
  {
   "cell_type": "code",
   "execution_count": 57,
   "metadata": {},
   "outputs": [
    {
     "data": {
      "text/plain": [
       "['emma', 'olivia', 'ava', 'isabella', 'sophia', 'charlotte', 'mia', 'amelia']"
      ]
     },
     "execution_count": 57,
     "metadata": {},
     "output_type": "execute_result"
    }
   ],
   "source": [
    "words = open('names.txt', 'r').read().splitlines()\n",
    "words[:8]"
   ]
  },
  {
   "cell_type": "code",
   "execution_count": 133,
   "metadata": {},
   "outputs": [
    {
     "name": "stdout",
     "output_type": "stream",
     "text": [
      "torch.Size([182345, 8]) torch.Size([182345])\n",
      "torch.Size([22903, 8]) torch.Size([22903])\n",
      "torch.Size([22898, 8]) torch.Size([22898])\n"
     ]
    }
   ],
   "source": [
    "### exact same code from previous lesson\n",
    "chars = sorted(list(set(''.join(words))))\n",
    "stoi = {s : i + 1 for i, s in enumerate(chars)}\n",
    "stoi['.'] = 0\n",
    "itos = {i : s for s, i in stoi.items()}\n",
    "vocab_size = len(itos)\n",
    "block_size = 8 #content length, from how much do we want to predict next char\n",
    "\n",
    "def build_dataset(iwords):  \n",
    "    X, Y = [], []\n",
    "    for w in iwords:\n",
    "        # print(w)\n",
    "        context = [0] * block_size #outputs [0,0,0]\n",
    "        for chr in w + '.':\n",
    "            ix = stoi[chr]\n",
    "            X.append(context)\n",
    "            Y.append(ix)\n",
    "            # print(''.join(itos[i] for i in context) + ' ----> ' + itos[ix])\n",
    "            context = context[1:] + [ix] #creating new list with new char appended to finish\n",
    "\n",
    "    X = torch.tensor(X)\n",
    "    Y = torch.tensor(Y)\n",
    "    print(X.shape, Y.shape)\n",
    "    return X, Y\n",
    "\n",
    "random.seed(1)\n",
    "random.shuffle(words)\n",
    "n1 = int(0.8 * len(words))\n",
    "n2 = int(0.9 * len(words))\n",
    "Xtr, Ytr = build_dataset(words[:n1]) # 80%\n",
    "Xval, Yval = build_dataset(words[n1:n2]) # 10%\n",
    "Xte, Yte = build_dataset(words[n2:]) # 10%"
   ]
  },
  {
   "cell_type": "code",
   "execution_count": 145,
   "metadata": {},
   "outputs": [
    {
     "name": "stdout",
     "output_type": "stream",
     "text": [
      "Number of parameters created: 22397\n"
     ]
    }
   ],
   "source": [
    "class Linear:\n",
    "    def __init__(self, fan_in, fan_out, bias=True):\n",
    "        self.weight = torch.randn(fan_in, fan_out) #/ fan_in**0.5 by introducing batchnorm, this initial normalization is not much necessary\n",
    "        self.bias = torch.zeros(fan_out) if bias else None \n",
    "\n",
    "    def __call__(self, x):\n",
    "        # (torch.randn(4, 80) @ torch.randn(80, 200) + torch.randn(200)).shape ==> (4, 200) // for example considering 4 example\n",
    "        # we want to group the output of 8 digits with 10 embedding to 4 groups of 2 of 10 embedding. WAVENET:: https://arxiv.org/pdf/1609.03499\n",
    "        # like 1 2 3 4 5 6 7 8\n",
    "        # to (1, 2) (3, 4) (5, 6) (7, 8) \n",
    "        # (torch.randn(4, 4, 20) @ torch.randn(20, 200) + torch.randn(200)).shape ==> (4, 4, 200) ==> this is how matrix mult works for multi dim tensors. ask gpt for more details it has good exp.\n",
    "        \n",
    "\n",
    "        self.out = x @ self.weight\n",
    "        if self.bias is not None:\n",
    "            self.out += self.bias\n",
    "        return self.out\n",
    "    def parameters(self):\n",
    "        #keyword of 'is' is so cool\n",
    "        return [self.weight] + ([] if self.bias is None else [self.bias])\n",
    "\n",
    "class BatchNorm1d:\n",
    "    def __init__(self,dim, momentum=0.1, eps=10**-5):\n",
    "        self.training = True #are we doing training or val or test?\n",
    "        self.momentum = momentum\n",
    "        self.eps = eps\n",
    "        self.bngain = torch.ones(dim)\n",
    "        self.bnbias = torch.zeros(dim)\n",
    "        self.running_mean = torch.zeros(dim)\n",
    "        self.running_var = torch.ones(dim)\n",
    "\n",
    "    def __call__(self, x):\n",
    "        if self.training:\n",
    "            # xmean = x.mean(0, keepdim=True)\n",
    "            # xvar = x.var(0, keepdim=True)\n",
    "            #we introduced wavenet and this mean calc has bug\n",
    "            #it computes mean over 4 groups seperately and individually, we want to calculate the channels over groups times number of batches\n",
    "            # e = torch.randn(32, 4, 68) \n",
    "            # xmean = torch.mean(0, keepdim=True) (1, 4, 68)\n",
    "            # xvar = torch.var(0, keepdim=True) (1, 4, 68)\n",
    "            # ehat = (e - xmean) / torch.sqrt(xvar + 1) (32, 4, 68) BUG\n",
    "            # e = torch.randn(32, 4, 68) \n",
    "            # xmean = torch.mean((0, 1), keepdim=True) (1, 1, 68)\n",
    "            # xvar = torch.var((0, 1), keepdim=True) (1, 1, 68)\n",
    "            # ehat = (e - xmean) / torch.sqrt(xvar + 1) (32, 4, 68) NOT BUG\n",
    "\n",
    "            if x.ndim == 2:\n",
    "                dim = 0\n",
    "            elif x.ndim == 3:\n",
    "                dim = (0,1)\n",
    "            #this impl is good because any other dim would give us error, being explicit tends to be good for getting proper errors\n",
    "            #this imp is bit different from torch lib where they dim as (0, 2). but we want 0,1.\n",
    "            xmean = x.mean(dim, keepdim=True) #dont forget to take mean of x, not torch.mean :)\n",
    "            xvar = x.var(dim, keepdim=True )\n",
    "        else:\n",
    "            xmean = self.running_mean\n",
    "            xvar = self.running_var\n",
    "        xres = (x - xmean) / torch.sqrt(xvar + self.eps)\n",
    "        self.out = self.bngain * xres + self.bnbias\n",
    "        \n",
    "        if self.training:\n",
    "            with torch.no_grad():\n",
    "                self.running_mean  = (1 - self.momentum) * self.running_mean + self.momentum * xmean \n",
    "                self.running_var = (1 - self.momentum) * self.running_var + self.momentum * xvar\n",
    "        return self.out\n",
    "\n",
    "    def parameters(self):\n",
    "        return [self.bnbias, self.bngain]\n",
    "\n",
    "class Tanh:\n",
    "    def __call__(self, x):\n",
    "        self.out = torch.tanh(x)\n",
    "        return self.out\n",
    "    \n",
    "    def parameters(self): #just adding this self made error go away\n",
    "        # TypeError: Tanh.parameters() takes 0 positional arguments but 1 was given\n",
    "        return []\n",
    " \n",
    "class Embedding:\n",
    "    def __init__(self, num_embedding, dim_embedding):\n",
    "        self.weight = torch.randn((num_embedding, dim_embedding))\n",
    "        \n",
    "        \n",
    "    def __call__(self, ix):\n",
    "        self.out = self.weight[ix]\n",
    "        return self.out\n",
    "\n",
    "    def parameters(self):\n",
    "        return [self.weight]        \n",
    "\n",
    "class FlattenWaveNet:\n",
    "    # e = torch.randn(4, 8, 10) ==> (4, 4, 20)\n",
    "    def __init__(self, n):\n",
    "        self.n = n\n",
    "    def __call__(self, x):\n",
    "        # self.out = x.view(x.shape[0], -1)\n",
    "        # self.out = x.view(x.shape[0], int(x.shape[1] / 2), -1) ==> this is also good idea but when any kind of error occurs, -1 keyword\n",
    "        # doesnt properly give out a error message so explicitly arranging these values is much better. Andrej doesnt like -1 so i dont like -1\n",
    "        B, T, C = x.shape #batch size, time, sequence length , channels/embeddings\n",
    "        x = x.view(B, T//self.n, C*self.n)\n",
    "        if x.shape[1] == 1:\n",
    "            x = x.squeeze(1) # 4, 1, 80 ==> 4, 80\n",
    "        self.out = x\n",
    "        return self.out\n",
    "    \n",
    "    def parameters(self):\n",
    "        return []\n",
    "\n",
    "class Sequential: \n",
    "    def __init__(self, layers):\n",
    "        self.layers = layers\n",
    "    def __call__(self, x):\n",
    "        for layer in self.layers:\n",
    "            x = layer(x)\n",
    "        self.out = x\n",
    "        return self.out\n",
    "    def parameters(self):\n",
    "        return [p for layer in self.layers for p in layer.parameters()]\n",
    "    \n",
    "\n",
    "\n",
    "n_embd = 10\n",
    "n_hidden = 68\n",
    "vocab_size = len(itos)\n",
    "\n",
    "model = Sequential([\n",
    "          Embedding(vocab_size, n_embd),\n",
    "          FlattenWaveNet(2), Linear(n_embd * 2, n_hidden, bias=False), BatchNorm1d(n_hidden), Tanh(),\n",
    "          FlattenWaveNet(2), Linear(n_hidden * 2, n_hidden, bias=False), BatchNorm1d(n_hidden), Tanh(),\n",
    "          FlattenWaveNet(2), Linear(n_hidden * 2, n_hidden, bias=False), BatchNorm1d(n_hidden), Tanh(),\n",
    "          Linear(n_hidden, vocab_size)\n",
    "        ])\n",
    "with torch.no_grad():\n",
    "    model.layers[-1].weight *= 0.1\n",
    "            \n",
    "\n",
    "params = model.parameters()\n",
    "print(f'Number of parameters created: {sum(p.nelement() for p in params)}')\n",
    "count = 0\n",
    "for p in params:\n",
    "    p.requires_grad = True\n",
    "# with this torchified implementation, we got deep understanding of how does torch lib and its nn liblary works, so in next lec, we will continue from\n",
    "# standart torch lib. '''''never ever use something that you cannot create on your own. -- richard feynman'''''\n"
   ]
  },
  {
   "cell_type": "code",
   "execution_count": 146,
   "metadata": {},
   "outputs": [
    {
     "name": "stdout",
     "output_type": "stream",
     "text": [
      "torch.Size([4, 8])\n"
     ]
    },
    {
     "data": {
      "text/plain": [
       "tensor([[ 0,  0,  0,  0,  0,  0, 10, 15],\n",
       "        [ 0, 11, 18,  9, 19,  8,  1, 14],\n",
       "        [ 0,  0,  0,  0,  0,  0, 12,  1],\n",
       "        [ 0,  0,  0,  8,  1, 14,  9,  1]])"
      ]
     },
     "execution_count": 146,
     "metadata": {},
     "output_type": "execute_result"
    }
   ],
   "source": [
    "ix = torch.randint(0, Xtr.shape[0], (4, ))\n",
    "xb, yb = Xtr[ix], Ytr[ix]\n",
    "logits = model(xb)\n",
    "print(xb.shape)\n",
    "xb\n"
   ]
  },
  {
   "cell_type": "code",
   "execution_count": 147,
   "metadata": {},
   "outputs": [
    {
     "name": "stdout",
     "output_type": "stream",
     "text": [
      "Embedding :: (4, 8, 10)\n",
      "FlattenWaveNet :: (4, 4, 20)\n",
      "Linear :: (4, 4, 68)\n",
      "BatchNorm1d :: (4, 4, 68)\n",
      "Tanh :: (4, 4, 68)\n",
      "FlattenWaveNet :: (4, 2, 136)\n",
      "Linear :: (4, 2, 68)\n",
      "BatchNorm1d :: (4, 2, 68)\n",
      "Tanh :: (4, 2, 68)\n",
      "FlattenWaveNet :: (4, 136)\n",
      "Linear :: (4, 68)\n",
      "BatchNorm1d :: (4, 68)\n",
      "Tanh :: (4, 68)\n",
      "Linear :: (4, 27)\n"
     ]
    }
   ],
   "source": [
    "for layer in model.layers:\n",
    "    print(f'{layer.__class__.__name__} :: {tuple(layer.out.shape)}')"
   ]
  },
  {
   "cell_type": "code",
   "execution_count": 148,
   "metadata": {},
   "outputs": [
    {
     "name": "stdout",
     "output_type": "stream",
     "text": [
      "i=0/steps=50000==3.2970\n",
      "i=10000/steps=50000==2.7465\n",
      "i=20000/steps=50000==2.2383\n",
      "i=30000/steps=50000==2.5775\n",
      "i=40000/steps=50000==2.3593\n"
     ]
    }
   ],
   "source": [
    "steps = 50000\n",
    "batch_s = 32\n",
    "lossi = []\n",
    "ud = []\n",
    "for i in range(steps):\n",
    "\n",
    "    #minibatch \n",
    "    ix = torch.randint(0, Xtr.shape[0], (batch_s, ))  \n",
    "    Xb, Yb = Xtr[ix], Ytr[ix] #batch X, Y\n",
    "\n",
    "    #forward pass\n",
    "    logits = model(Xb) \n",
    "    loss = F.cross_entropy(logits, Yb) #loss function\n",
    "\n",
    "    #backward pass\n",
    "    for p in params:\n",
    "        p.grad = None\n",
    "    loss.backward() # back propogration\n",
    "\n",
    "    lr = 0.1 if i < steps * 0.75  else 0.01\n",
    "    for p in params:\n",
    "        p.data += -lr * p.grad\n",
    "    \n",
    "    if i % 10000 == 0:\n",
    "        print(f'{i=}/{steps=}=={loss.item():.4f}')\n",
    "    lossi.append(loss.log10().item())\n"
   ]
  },
  {
   "cell_type": "code",
   "execution_count": 140,
   "metadata": {},
   "outputs": [
    {
     "data": {
      "text/plain": [
       "[<matplotlib.lines.Line2D at 0x7caf9bff4e90>]"
      ]
     },
     "execution_count": 140,
     "metadata": {},
     "output_type": "execute_result"
    },
    {
     "data": {
      "image/png": "[encoded data removed]",
      "text/plain": [
       "<Figure size 640x480 with 1 Axes>"
      ]
     },
     "metadata": {},
     "output_type": "display_data"
    }
   ],
   "source": [
    "# this view is way too ugly\n",
    "# plt.plot(lossi)\n",
    "plt.plot(torch.tensor(lossi).view(-1, 1000).mean(1))"
   ]
  },
  {
   "cell_type": "code",
   "execution_count": 149,
   "metadata": {},
   "outputs": [],
   "source": [
    "for layer in model.layers:\n",
    "    layer.training = False"
   ]
  },
  {
   "cell_type": "code",
   "execution_count": 150,
   "metadata": {},
   "outputs": [
    {
     "name": "stdout",
     "output_type": "stream",
     "text": [
      "train 2.142873764038086\n",
      "val 2.1616475582122803\n"
     ]
    }
   ],
   "source": [
    "@torch.no_grad() #tells torch this func will not use any grad computation, basically disables grad.required to false to every variable. efficient\n",
    "def split_loss(split):\n",
    "    x, y = {\n",
    "        'train': (Xtr, Ytr),\n",
    "        'val': (Xval, Yval),\n",
    "        'test': (Xte, Yte)\n",
    "    }[split]\n",
    "    logits = model(x)\n",
    "    loss = F.cross_entropy(logits, y)\n",
    "    print(split, loss.item())\n",
    "\n",
    "split_loss('train')\n",
    "split_loss('val')"
   ]
  },
  {
   "cell_type": "code",
   "execution_count": 151,
   "metadata": {},
   "outputs": [
    {
     "name": "stdout",
     "output_type": "stream",
     "text": [
      "mondry.\n",
      "cherimy.\n",
      "raylliewna.\n",
      "koalee.\n",
      "jesor.\n",
      "aybuly.\n",
      "damihont.\n",
      "iyaeda.\n",
      "cmikalah.\n",
      "atdet.\n",
      "kamhin.\n",
      "zylo.\n",
      "bith.\n",
      "vinik.\n",
      "deaz.\n",
      "orpedig.\n",
      "kyriag.\n",
      "savi.\n",
      "kanirus.\n",
      "kahal.\n"
     ]
    }
   ],
   "source": [
    "for _ in range(20):\n",
    "    out = []\n",
    "\n",
    "    context = [0] * block_size \n",
    "    while True:\n",
    "        logits = model(torch.tensor([context]))\n",
    "        prob = torch.softmax(logits, dim=1)\n",
    "        ix = torch.multinomial(prob, num_samples=1).item()\n",
    "        context = context[1:] + [ix]  \n",
    "        out.append(ix)\n",
    "        \n",
    "        if(ix == 0):\n",
    "            break\n",
    "        \n",
    "    print(''.join(itos[i] for i in out))\n"
   ]
  },
  {
   "cell_type": "code",
   "execution_count": 144,
   "metadata": {},
   "outputs": [
    {
     "data": {
      "text/plain": [
       "torch.Size([4, 4, 20])"
      ]
     },
     "execution_count": 144,
     "metadata": {},
     "output_type": "execute_result"
    }
   ],
   "source": [
    "## last notes\n",
    "# andrej says that basically the time you spend on developing neural networks will be spend most at looking at nn documenation of torch and seeing\n",
    "#which layers would work in my project and sticking them up with lego bricks however, the docs itself has very bad explanation on the topics itself and they may lie, they might be wrong in some cases\n",
    "#but you just have to deal with it.\n",
    "\n",
    "# there is lots of trials and erros on meking sure shapes of these layers actually work, like torch's bath norm would give you (0,2) mean dim but you would want\n",
    "# (0, 1) is it (n c l) or (n l c) and so there is lots of gymnastics of code to make sure these shapes align ok. \n",
    "\n",
    "# he spends lots of his time in jupyter notebook making sure layers and their shapes align ok and then converting all of it to vs code\n"
   ]
  },
  {
   "cell_type": "code",
   "execution_count": null,
   "metadata": {},
   "outputs": [],
   "source": []
  }
 ],
 "metadata": {
  "kernelspec": {
   "display_name": "env",
   "language": "python",
   "name": "python3"
  },
  "language_info": {
   "codemirror_mode": {
    "name": "ipython",
    "version": 3
   },
   "file_extension": ".py",
   "mimetype": "text/x-python",
   "name": "python",
   "nbconvert_exporter": "python",
   "pygments_lexer": "ipython3",
   "version": "3.12.3"
  }
 },
 "nbformat": 4,
 "nbformat_minor": 2
}
