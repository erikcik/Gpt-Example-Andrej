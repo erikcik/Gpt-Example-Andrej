{
 "cells": [
  {
   "cell_type": "code",
   "execution_count": 2,
   "metadata": {},
   "outputs": [
    {
     "name": "stderr",
     "output_type": "stream",
     "text": [
      "2024-12-05 17:15:37.142699: I tensorflow/core/util/port.cc:153] oneDNN custom operations are on. You may see slightly different numerical results due to floating-point round-off errors from different computation orders. To turn them off, set the environment variable `TF_ENABLE_ONEDNN_OPTS=0`.\n",
      "2024-12-05 17:15:37.229905: E external/local_xla/xla/stream_executor/cuda/cuda_fft.cc:477] Unable to register cuFFT factory: Attempting to register factory for plugin cuFFT when one has already been registered\n",
      "WARNING: All log messages before absl::InitializeLog() is called are written to STDERR\n",
      "E0000 00:00:1733418937.278334   58270 cuda_dnn.cc:8310] Unable to register cuDNN factory: Attempting to register factory for plugin cuDNN when one has already been registered\n",
      "E0000 00:00:1733418937.292740   58270 cuda_blas.cc:1418] Unable to register cuBLAS factory: Attempting to register factory for plugin cuBLAS when one has already been registered\n",
      "2024-12-05 17:15:37.382652: I tensorflow/core/platform/cpu_feature_guard.cc:210] This TensorFlow binary is optimized to use available CPU instructions in performance-critical operations.\n",
      "To enable the following instructions: AVX2 AVX_VNNI FMA, in other operations, rebuild TensorFlow with the appropriate compiler flags.\n"
     ]
    },
    {
     "name": "stdout",
     "output_type": "stream",
     "text": [
      "Train: X=(60000, 28, 28), y=(60000,)\n",
      "Test: X=(10000, 28, 28), y=(10000,)\n"
     ]
    },
    {
     "data": {
      "image/png": "[encoded data removed]",
      "text/plain": [
       "<Figure size 640x480 with 9 Axes>"
      ]
     },
     "metadata": {},
     "output_type": "display_data"
    }
   ],
   "source": [
    "from tensorflow.keras.datasets import mnist  # type: ignore\n",
    "\n",
    "from matplotlib import pyplot as plt\n",
    "# load dataset\n",
    "(trainX, trainy), (testX, testy) = mnist.load_data() #returns tuple pair, train x is images itself and other tuple is labels assosicated with them\n",
    "# summarize loaded dataset\n",
    "print('Train: X=%s, y=%s' % (trainX.shape, trainy.shape))\n",
    "print('Test: X=%s, y=%s' % (testX.shape, testy.shape))\n",
    "# plot first few images\n",
    "for i in range(9):\n",
    "\t# define subplot\n",
    "\tplt.subplot(3, 3, i + 1) #creates a grid of values for images to fill it up\n",
    "\t# plot raw pixel data\n",
    "\tplt.imshow(trainX[i], cmap=plt.get_cmap('gray'))\n",
    "# show the figure\n",
    "plt.show()\n"
   ]
  },
  {
   "cell_type": "code",
   "execution_count": 254,
   "metadata": {},
   "outputs": [],
   "source": [
    "import tensorflow as tf\n",
    "import torch \n",
    "import torch.nn.functional as F\n"
   ]
  },
  {
   "cell_type": "code",
   "execution_count": 255,
   "metadata": {},
   "outputs": [],
   "source": [
    "mnist = tf.keras.datasets.mnist\n",
    "(xdata, xdatalbl), (ydata, ydatalbl) = mnist.load_data()"
   ]
  },
  {
   "cell_type": "code",
   "execution_count": 256,
   "metadata": {},
   "outputs": [
    {
     "data": {
      "text/plain": [
       "tensor(False)"
      ]
     },
     "execution_count": 256,
     "metadata": {},
     "output_type": "execute_result"
    }
   ],
   "source": [
    "ximg = torch.tensor(xdata)\n",
    "yimg = torch.tensor(ydata)\n",
    "xlab = torch.tensor(xdatalbl).long()\n",
    "ylab = torch.tensor(ydatalbl)\n",
    "yimg.isnan().any()\n"
   ]
  },
  {
   "cell_type": "code",
   "execution_count": 257,
   "metadata": {},
   "outputs": [
    {
     "data": {
      "text/plain": [
       "torch.Size([60000, 28, 28])"
      ]
     },
     "execution_count": 257,
     "metadata": {},
     "output_type": "execute_result"
    }
   ],
   "source": [
    "ximg.shape"
   ]
  },
  {
   "cell_type": "code",
   "execution_count": 258,
   "metadata": {},
   "outputs": [
    {
     "name": "stdout",
     "output_type": "stream",
     "text": [
      "torch.Size([10000, 784])\n",
      "10\n",
      "tensor([[0, 0, 0, 0, 0, 1, 0, 0, 0, 0]])\n"
     ]
    },
    {
     "data": {
      "text/plain": [
       "<matplotlib.image.AxesImage at 0x706e7cf67ef0>"
      ]
     },
     "execution_count": 258,
     "metadata": {},
     "output_type": "execute_result"
    },
    {
     "data": {
      "image/png": "[encoded data removed]",
      "text/plain": [
       "<Figure size 640x480 with 1 Axes>"
      ]
     },
     "metadata": {},
     "output_type": "display_data"
    }
   ],
   "source": [
    "ximg = ximg.flatten(start_dim=1) / 255.0\n",
    "yimg = yimg.flatten(start_dim=1) / 255.0\n",
    "print(yimg.shape)\n",
    "numc = len(set([xlab[i].item() for i in range(len(xlab))]))\n",
    "print(numc)\n",
    "xlabenc = F.one_hot(xlab, num_classes=numc)\n",
    "print(xlabenc[:1])\n",
    "plt.imshow(ximg[:1].reshape(28,28))\n"
   ]
  },
  {
   "cell_type": "code",
   "execution_count": 270,
   "metadata": {},
   "outputs": [],
   "source": [
    "g = torch.Generator()\n",
    "W = torch.randn(784, 10, requires_grad=True)"
   ]
  },
  {
   "cell_type": "code",
   "execution_count": 252,
   "metadata": {},
   "outputs": [
    {
     "name": "stdout",
     "output_type": "stream",
     "text": [
      "loss.item() = 2.232783794403076\n",
      "loss.item() = 2.220348834991455\n",
      "loss.item() = 2.207951307296753\n",
      "loss.item() = 2.195591449737549\n",
      "loss.item() = 2.183269739151001\n",
      "loss.item() = 2.1709861755371094\n",
      "loss.item() = 2.1587414741516113\n",
      "loss.item() = 2.146535634994507\n",
      "loss.item() = 2.134369134902954\n",
      "loss.item() = 2.122241973876953\n",
      "loss.item() = 2.110154628753662\n",
      "loss.item() = 2.09810733795166\n",
      "loss.item() = 2.0861003398895264\n",
      "loss.item() = 2.074134111404419\n",
      "loss.item() = 2.062208890914917\n",
      "loss.item() = 2.0503246784210205\n",
      "loss.item() = 2.0384819507598877\n",
      "loss.item() = 2.0266811847686768\n",
      "loss.item() = 2.0149223804473877\n",
      "loss.item() = 2.0032055377960205\n",
      "loss.item() = 1.9915316104888916\n",
      "loss.item() = 1.9799002408981323\n",
      "loss.item() = 1.968312382698059\n",
      "loss.item() = 1.9567677974700928\n",
      "loss.item() = 1.9452664852142334\n",
      "loss.item() = 1.9338091611862183\n",
      "loss.item() = 1.9223960638046265\n",
      "loss.item() = 1.9110273122787476\n",
      "loss.item() = 1.899703025817871\n",
      "loss.item() = 1.8884235620498657\n",
      "loss.item() = 1.8771891593933105\n",
      "loss.item() = 1.8660004138946533\n",
      "loss.item() = 1.8548569679260254\n",
      "loss.item() = 1.843759298324585\n",
      "loss.item() = 1.8327077627182007\n",
      "loss.item() = 1.8217023611068726\n",
      "loss.item() = 1.8107434511184692\n",
      "loss.item() = 1.7998312711715698\n",
      "loss.item() = 1.7889659404754639\n",
      "loss.item() = 1.778147578239441\n",
      "loss.item() = 1.76737642288208\n",
      "loss.item() = 1.75665283203125\n",
      "loss.item() = 1.7459769248962402\n",
      "loss.item() = 1.735349178314209\n",
      "loss.item() = 1.7247693538665771\n",
      "loss.item() = 1.7142374515533447\n",
      "loss.item() = 1.7037540674209595\n",
      "loss.item() = 1.69331955909729\n",
      "loss.item() = 1.6829332113265991\n",
      "loss.item() = 1.6725964546203613\n",
      "loss.item() = 1.6623084545135498\n",
      "loss.item() = 1.6520695686340332\n",
      "loss.item() = 1.6418802738189697\n",
      "loss.item() = 1.6317404508590698\n",
      "loss.item() = 1.621650218963623\n",
      "loss.item() = 1.6116100549697876\n",
      "loss.item() = 1.6016197204589844\n",
      "loss.item() = 1.5916789770126343\n",
      "loss.item() = 1.5817890167236328\n",
      "loss.item() = 1.571948766708374\n",
      "loss.item() = 1.5621594190597534\n",
      "loss.item() = 1.5524202585220337\n",
      "loss.item() = 1.5427320003509521\n",
      "loss.item() = 1.5330944061279297\n",
      "loss.item() = 1.5235071182250977\n",
      "loss.item() = 1.5139713287353516\n",
      "loss.item() = 1.5044862031936646\n",
      "loss.item() = 1.4950523376464844\n",
      "loss.item() = 1.4856692552566528\n",
      "loss.item() = 1.476337194442749\n",
      "loss.item() = 1.4670568704605103\n",
      "loss.item() = 1.4578274488449097\n",
      "loss.item() = 1.4486491680145264\n",
      "loss.item() = 1.4395225048065186\n",
      "loss.item() = 1.4304474592208862\n",
      "loss.item() = 1.4214236736297607\n",
      "loss.item() = 1.4124510288238525\n",
      "loss.item() = 1.4035300016403198\n",
      "loss.item() = 1.3946607112884521\n",
      "loss.item() = 1.3858424425125122\n",
      "loss.item() = 1.377076268196106\n",
      "loss.item() = 1.3683611154556274\n",
      "loss.item() = 1.359697699546814\n",
      "loss.item() = 1.3510853052139282\n",
      "loss.item() = 1.3425250053405762\n",
      "loss.item() = 1.3340160846710205\n",
      "loss.item() = 1.3255581855773926\n",
      "loss.item() = 1.3171515464782715\n",
      "loss.item() = 1.308796763420105\n",
      "loss.item() = 1.3004933595657349\n",
      "loss.item() = 1.2922406196594238\n",
      "loss.item() = 1.2840392589569092\n",
      "loss.item() = 1.2758893966674805\n",
      "loss.item() = 1.2677899599075317\n",
      "loss.item() = 1.2597417831420898\n",
      "loss.item() = 1.2517449855804443\n",
      "loss.item() = 1.2437984943389893\n",
      "loss.item() = 1.235903263092041\n",
      "loss.item() = 1.228058099746704\n",
      "loss.item() = 1.2202638387680054\n"
     ]
    }
   ],
   "source": [
    "#for one single word\n",
    "for _ in range(100):\n",
    "    #forward pass\n",
    "    test = ximg[:1].float() / 255.0\n",
    "    target = xlabenc[:1]\n",
    "    logits = test @ W\n",
    "    prob = logits.exp()\n",
    "    prob = prob / prob.sum(1, keepdim=True)\n",
    "    loss = -prob[0, target.argmax()].log()\n",
    "    print(f'{loss.item() = }')\n",
    "\n",
    "    #backward pass\n",
    "    W.grad = None\n",
    "    loss.backward()\n",
    "\n",
    "    #gradient descent\n",
    "    W.data += -10 * W.grad\n",
    "\n"
   ]
  },
  {
   "cell_type": "code",
   "execution_count": 277,
   "metadata": {},
   "outputs": [
    {
     "name": "stdout",
     "output_type": "stream",
     "text": [
      "2.272679090499878\n",
      "2.265493154525757\n",
      "2.2583718299865723\n",
      "2.251314640045166\n",
      "2.2443196773529053\n",
      "2.23738694190979\n",
      "2.230515718460083\n",
      "2.2237045764923096\n",
      "2.2169532775878906\n",
      "2.2102608680725098\n",
      "2.203627109527588\n",
      "2.1970505714416504\n",
      "2.190530776977539\n",
      "2.1840670108795166\n",
      "2.1776585578918457\n",
      "2.171304702758789\n",
      "2.1650052070617676\n",
      "2.1587588787078857\n",
      "2.1525650024414062\n",
      "2.146423578262329\n",
      "2.140333414077759\n",
      "2.134294033050537\n",
      "2.1283047199249268\n",
      "2.1223652362823486\n",
      "2.1164743900299072\n",
      "2.1106321811676025\n",
      "2.1048378944396973\n",
      "2.099090576171875\n",
      "2.0933899879455566\n",
      "2.087735652923584\n",
      "2.0821268558502197\n",
      "2.0765631198883057\n",
      "2.0710437297821045\n",
      "2.065568447113037\n",
      "2.0601367950439453\n",
      "2.0547478199005127\n",
      "2.0494015216827393\n",
      "2.0440971851348877\n",
      "2.0388343334198\n",
      "2.0336124897003174\n",
      "2.0284311771392822\n",
      "2.0232901573181152\n",
      "2.0181884765625\n",
      "2.0131261348724365\n",
      "2.0081024169921875\n",
      "2.0031168460845947\n",
      "1.9981693029403687\n",
      "1.993259072303772\n",
      "1.9883860349655151\n",
      "1.9835494756698608\n",
      "1.9787489175796509\n",
      "1.9739844799041748\n",
      "1.9692550897598267\n",
      "1.964560866355896\n",
      "1.9599013328552246\n",
      "1.9552757740020752\n",
      "1.9506839513778687\n",
      "1.9461257457733154\n",
      "1.9416006803512573\n",
      "1.9371082782745361\n",
      "1.9326484203338623\n",
      "1.928220272064209\n",
      "1.9238240718841553\n",
      "1.9194588661193848\n",
      "1.9151248931884766\n",
      "1.910821557044983\n",
      "1.9065486192703247\n",
      "1.9023056030273438\n",
      "1.8980921506881714\n",
      "1.8939082622528076\n",
      "1.8897533416748047\n",
      "1.885627269744873\n",
      "1.881529450416565\n",
      "1.8774598836898804\n",
      "1.8734180927276611\n",
      "1.8694039583206177\n",
      "1.865417242050171\n",
      "1.861457109451294\n",
      "1.857524037361145\n",
      "1.8536173105239868\n",
      "1.8497366905212402\n",
      "1.8458820581436157\n",
      "1.8420531749725342\n",
      "1.8382494449615479\n",
      "1.8344708681106567\n",
      "1.8307172060012817\n",
      "1.826987862586975\n",
      "1.823283314704895\n",
      "1.8196027278900146\n",
      "1.8159459829330444\n",
      "1.8123128414154053\n",
      "1.8087031841278076\n",
      "1.8051166534423828\n",
      "1.8015530109405518\n",
      "1.798012137413025\n",
      "1.7944937944412231\n",
      "1.7909976243972778\n",
      "1.787523627281189\n",
      "1.7840713262557983\n",
      "1.7806406021118164\n"
     ]
    }
   ],
   "source": [
    "#the whole logic less go\n",
    "for _ in range(100):\n",
    "    #forward pass\n",
    "    logits = ximg @ W\n",
    "    prob = logits.exp()\n",
    "    prob = prob / prob.sum(1, keepdim=True)\n",
    "    loss = -prob[torch.arange(prob.shape[0]), xlab].log().mean()\n",
    "    print(loss.item())\n",
    "\n",
    "    #backward pass\n",
    "    W.grad = None\n",
    "    loss.backward()\n",
    "\n",
    "    #grad descent\n",
    "    W.data += -0.1 * W.grad\n"
   ]
  },
  {
   "cell_type": "code",
   "execution_count": 280,
   "metadata": {},
   "outputs": [
    {
     "name": "stdout",
     "output_type": "stream",
     "text": [
      "torch.Size([10000, 10])\n",
      "0.6858999729156494\n"
     ]
    }
   ],
   "source": [
    "logits = yimg @ W\n",
    "print(logits.shape)\n",
    "prob = logits.exp()\n",
    "prob = prob / prob.sum(1, keepdim=True)\n",
    "accuracy = (prob.argmax(1) == ylab).float().mean()\n",
    "print(accuracy.item())"
   ]
  },
  {
   "cell_type": "code",
   "execution_count": null,
   "metadata": {},
   "outputs": [],
   "source": []
  }
 ],
 "metadata": {
  "kernelspec": {
   "display_name": "env",
   "language": "python",
   "name": "python3"
  },
  "language_info": {
   "codemirror_mode": {
    "name": "ipython",
    "version": 3
   },
   "file_extension": ".py",
   "mimetype": "text/x-python",
   "name": "python",
   "nbconvert_exporter": "python",
   "pygments_lexer": "ipython3",
   "version": "3.12.3"
  }
 },
 "nbformat": 4,
 "nbformat_minor": 2
}
